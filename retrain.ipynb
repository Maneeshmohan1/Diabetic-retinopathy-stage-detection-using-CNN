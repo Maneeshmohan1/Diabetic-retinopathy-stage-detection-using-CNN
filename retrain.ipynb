{
 "cells": [
  {
   "cell_type": "code",
   "execution_count": 1,
   "metadata": {},
   "outputs": [
    {
     "name": "stderr",
     "output_type": "stream",
     "text": [
      "Using TensorFlow backend.\n"
     ]
    }
   ],
   "source": [
    "from keras import optimizers\n",
    "from keras.layers import Dense, Activation, Dropout, Flatten\n",
    "from keras.layers import Conv2D, MaxPooling2D, ZeroPadding2D\n",
    "from keras.models import Sequential\n",
    "from keras.preprocessing import image\n",
    "from keras.preprocessing.image import ImageDataGenerator\n",
    "import numpy as np "
   ]
  },
  {
   "cell_type": "code",
   "execution_count": 3,
   "metadata": {},
   "outputs": [
    {
     "name": "stdout",
     "output_type": "stream",
     "text": [
      "Found 413 images belonging to 5 classes.\n",
      "Found 103 images belonging to 5 classes.\n"
     ]
    }
   ],
   "source": [
    "from keras.preprocessing.image import ImageDataGenerator\n",
    "train_datagen = ImageDataGenerator(rescale = 1./255,shear_range = 0.2,zoom_range = 0.2,horizontal_flip = True)\n",
    "test_datagen = ImageDataGenerator(rescale = 1./255)\n",
    "training_set = train_datagen.flow_from_directory('/home/teqip-cek/Desktop/chandhuP/Training',target_size = (64, 64),batch_size = 32,class_mode = 'categorical')\n",
    "test_set = test_datagen.flow_from_directory('/home/teqip-cek/Desktop/chandhuP//Testing',target_size = (64, 64),batch_size = 32,class_mode = 'categorical')"
   ]
  },
  {
   "cell_type": "code",
   "execution_count": 4,
   "metadata": {},
   "outputs": [],
   "source": [
    "from keras.models import model_from_json\n",
    "json_file = open('models/model.diabetic', 'r')\n",
    "loaded_model_json = json_file.read()\n",
    "json_file.close()\n",
    "model = model_from_json(loaded_model_json)"
   ]
  },
  {
   "cell_type": "code",
   "execution_count": 7,
   "metadata": {},
   "outputs": [],
   "source": [
    "model.compile(loss='categorical_crossentropy',optimizer='rmsprop',metrics=['accuracy'])\n"
   ]
  },
  {
   "cell_type": "code",
   "execution_count": 8,
   "metadata": {},
   "outputs": [],
   "source": [
    "model.load_weights('models/DiabeticRetinopathy_CNN.h5')"
   ]
  },
  {
   "cell_type": "code",
   "execution_count": null,
   "metadata": {},
   "outputs": [
    {
     "name": "stdout",
     "output_type": "stream",
     "text": [
      "starting training....\n",
      "Epoch 1/50\n",
      "10/10 [==============================] - 710s 71s/step - loss: 0.4888 - acc: 0.8200 - val_loss: 4.0457 - val_acc: 0.4177\n",
      "Epoch 2/50\n",
      "10/10 [==============================] - 698s 70s/step - loss: 0.4185 - acc: 0.8438 - val_loss: 3.7468 - val_acc: 0.4074\n",
      "Epoch 3/50\n",
      "10/10 [==============================] - 698s 70s/step - loss: 0.5014 - acc: 0.8399 - val_loss: 3.1215 - val_acc: 0.3590\n",
      "Epoch 4/50\n",
      "10/10 [==============================] - 703s 70s/step - loss: 0.4386 - acc: 0.8555 - val_loss: 3.0097 - val_acc: 0.4282\n",
      "Epoch 5/50\n",
      "10/10 [==============================] - 697s 70s/step - loss: 0.3710 - acc: 0.8706 - val_loss: 3.3923 - val_acc: 0.3299\n",
      "Epoch 6/50\n",
      "10/10 [==============================] - 695s 70s/step - loss: 0.4039 - acc: 0.8646 - val_loss: 4.3050 - val_acc: 0.4177\n",
      "Epoch 7/50\n",
      "10/10 [==============================] - 695s 70s/step - loss: 0.5016 - acc: 0.8031 - val_loss: 4.0167 - val_acc: 0.3592\n",
      "Epoch 8/50\n",
      "10/10 [==============================] - 695s 70s/step - loss: 0.5192 - acc: 0.8143 - val_loss: 4.3946 - val_acc: 0.3584\n",
      "Epoch 9/50\n",
      "10/10 [==============================] - 694s 69s/step - loss: 0.3623 - acc: 0.8746 - val_loss: 4.0022 - val_acc: 0.4379\n",
      "Epoch 10/50\n",
      "10/10 [==============================] - 694s 69s/step - loss: 0.3511 - acc: 0.8646 - val_loss: 3.3209 - val_acc: 0.4274\n",
      "Epoch 11/50\n",
      "10/10 [==============================] - 694s 69s/step - loss: 0.4468 - acc: 0.8187 - val_loss: 3.8907 - val_acc: 0.4373\n",
      "Epoch 12/50\n",
      "10/10 [==============================] - 695s 70s/step - loss: 0.3767 - acc: 0.8615 - val_loss: 5.1648 - val_acc: 0.4278\n",
      "Epoch 13/50\n",
      "10/10 [==============================] - 695s 69s/step - loss: 0.3565 - acc: 0.8490 - val_loss: 3.9170 - val_acc: 0.4074\n",
      "Epoch 14/50\n",
      "10/10 [==============================] - 695s 69s/step - loss: 0.3530 - acc: 0.8771 - val_loss: 3.4814 - val_acc: 0.4371\n",
      "Epoch 15/50\n",
      " 9/10 [==========================>...] - ETA: 0s - loss: 0.4692 - acc: 0.8090"
     ]
    }
   ],
   "source": [
    "print('starting training....')\n",
    "model.fit_generator(generator=training_set, steps_per_epoch=10,epochs=50,validation_data=test_set,validation_steps=200)\n",
    "print('training finished!!')"
   ]
  },
  {
   "cell_type": "code",
   "execution_count": null,
   "metadata": {},
   "outputs": [],
   "source": []
  }
 ],
 "metadata": {
  "kernelspec": {
   "display_name": "Python 3",
   "language": "python",
   "name": "python3"
  },
  "language_info": {
   "codemirror_mode": {
    "name": "ipython",
    "version": 3
   },
   "file_extension": ".py",
   "mimetype": "text/x-python",
   "name": "python",
   "nbconvert_exporter": "python",
   "pygments_lexer": "ipython3",
   "version": "3.6.8"
  }
 },
 "nbformat": 4,
 "nbformat_minor": 2
}
